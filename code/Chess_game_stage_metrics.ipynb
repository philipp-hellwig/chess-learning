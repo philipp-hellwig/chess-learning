{
 "cells": [
  {
   "cell_type": "markdown",
   "metadata": {
    "editable": true,
    "slideshow": {
     "slide_type": "slide"
    },
    "tags": []
   },
   "source": [
    "# Overview\n",
    "The goal of this script is to create engine evaluations for the moves of the player in question grouped by game stage.\n",
    "\n",
    "For this, I will use the \"stockfish\" package. https://pypi.org/project/stockfish/\n",
    "\n",
    "Furthermore, I will divide each game into the sections opening, middle game and endgame."
   ]
  },
  {
   "cell_type": "markdown",
   "metadata": {
    "editable": true,
    "id": "LSZd-p-LjGc_",
    "slideshow": {
     "slide_type": "skip"
    },
    "tags": []
   },
   "source": [
    "## Imports and Data load"
   ]
  },
  {
   "cell_type": "code",
   "execution_count": 1,
   "metadata": {
    "colab": {
     "base_uri": "https://localhost:8080/"
    },
    "editable": true,
    "id": "CJLVGDB0jWZc",
    "outputId": "f536ea9a-5e95-4bf4-f196-0364a8501533",
    "slideshow": {
     "slide_type": "skip"
    },
    "tags": []
   },
   "outputs": [
    {
     "name": "stdout",
     "output_type": "stream",
     "text": [
      "Requirement already satisfied: stockfish in c:\\users\\phili\\appdata\\local\\programs\\python\\python312\\lib\\site-packages (3.28.0)\n",
      "Note: you may need to restart the kernel to use updated packages.\n"
     ]
    },
    {
     "name": "stderr",
     "output_type": "stream",
     "text": [
      "\n",
      "[notice] A new release of pip is available: 23.2.1 -> 23.3.1\n",
      "[notice] To update, run: python.exe -m pip install --upgrade pip\n"
     ]
    },
    {
     "name": "stdout",
     "output_type": "stream",
     "text": [
      "Requirement already satisfied: pandas in c:\\users\\phili\\appdata\\local\\programs\\python\\python312\\lib\\site-packages (2.1.3)\n",
      "Requirement already satisfied: numpy<2,>=1.26.0 in c:\\users\\phili\\appdata\\local\\programs\\python\\python312\\lib\\site-packages (from pandas) (1.26.2)\n",
      "Requirement already satisfied: python-dateutil>=2.8.2 in c:\\users\\phili\\appdata\\roaming\\python\\python312\\site-packages (from pandas) (2.8.2)\n",
      "Requirement already satisfied: pytz>=2020.1 in c:\\users\\phili\\appdata\\local\\programs\\python\\python312\\lib\\site-packages (from pandas) (2023.3.post1)\n",
      "Requirement already satisfied: tzdata>=2022.1 in c:\\users\\phili\\appdata\\local\\programs\\python\\python312\\lib\\site-packages (from pandas) (2023.3)\n",
      "Requirement already satisfied: six>=1.5 in c:\\users\\phili\\appdata\\roaming\\python\\python312\\site-packages (from python-dateutil>=2.8.2->pandas) (1.16.0)\n",
      "Note: you may need to restart the kernel to use updated packages.\n"
     ]
    },
    {
     "name": "stderr",
     "output_type": "stream",
     "text": [
      "\n",
      "[notice] A new release of pip is available: 23.2.1 -> 23.3.1\n",
      "[notice] To update, run: python.exe -m pip install --upgrade pip\n"
     ]
    },
    {
     "name": "stdout",
     "output_type": "stream",
     "text": [
      "Requirement already satisfied: numpy in c:\\users\\phili\\appdata\\local\\programs\\python\\python312\\lib\\site-packages (1.26.2)\n",
      "Note: you may need to restart the kernel to use updated packages.\n"
     ]
    },
    {
     "name": "stderr",
     "output_type": "stream",
     "text": [
      "\n",
      "[notice] A new release of pip is available: 23.2.1 -> 23.3.1\n",
      "[notice] To update, run: python.exe -m pip install --upgrade pip\n"
     ]
    },
    {
     "name": "stdout",
     "output_type": "stream",
     "text": [
      "Requirement already satisfied: matplotlib in c:\\users\\phili\\appdata\\local\\programs\\python\\python312\\lib\\site-packages (3.8.2)\n",
      "Requirement already satisfied: contourpy>=1.0.1 in c:\\users\\phili\\appdata\\local\\programs\\python\\python312\\lib\\site-packages (from matplotlib) (1.2.0)\n",
      "Requirement already satisfied: cycler>=0.10 in c:\\users\\phili\\appdata\\local\\programs\\python\\python312\\lib\\site-packages (from matplotlib) (0.12.1)\n",
      "Requirement already satisfied: fonttools>=4.22.0 in c:\\users\\phili\\appdata\\local\\programs\\python\\python312\\lib\\site-packages (from matplotlib) (4.45.1)\n",
      "Requirement already satisfied: kiwisolver>=1.3.1 in c:\\users\\phili\\appdata\\local\\programs\\python\\python312\\lib\\site-packages (from matplotlib) (1.4.5)\n",
      "Requirement already satisfied: numpy<2,>=1.21 in c:\\users\\phili\\appdata\\local\\programs\\python\\python312\\lib\\site-packages (from matplotlib) (1.26.2)\n",
      "Requirement already satisfied: packaging>=20.0 in c:\\users\\phili\\appdata\\roaming\\python\\python312\\site-packages (from matplotlib) (23.2)\n",
      "Requirement already satisfied: pillow>=8 in c:\\users\\phili\\appdata\\local\\programs\\python\\python312\\lib\\site-packages (from matplotlib) (10.1.0)\n",
      "Requirement already satisfied: pyparsing>=2.3.1 in c:\\users\\phili\\appdata\\local\\programs\\python\\python312\\lib\\site-packages (from matplotlib) (3.1.1)\n",
      "Requirement already satisfied: python-dateutil>=2.7 in c:\\users\\phili\\appdata\\roaming\\python\\python312\\site-packages (from matplotlib) (2.8.2)\n",
      "Requirement already satisfied: six>=1.5 in c:\\users\\phili\\appdata\\roaming\\python\\python312\\site-packages (from python-dateutil>=2.7->matplotlib) (1.16.0)\n",
      "Note: you may need to restart the kernel to use updated packages.\n"
     ]
    },
    {
     "name": "stderr",
     "output_type": "stream",
     "text": [
      "\n",
      "[notice] A new release of pip is available: 23.2.1 -> 23.3.1\n",
      "[notice] To update, run: python.exe -m pip install --upgrade pip\n"
     ]
    }
   ],
   "source": [
    "%pip install stockfish\n",
    "%pip install pandas\n",
    "%pip install numpy\n",
    "%pip install matplotlib"
   ]
  },
  {
   "cell_type": "code",
   "execution_count": 2,
   "metadata": {
    "editable": true,
    "slideshow": {
     "slide_type": "skip"
    },
    "tags": []
   },
   "outputs": [],
   "source": [
    "import pandas as pd\n",
    "import numpy as np\n",
    "import string\n",
    "import matplotlib.pyplot as plt\n",
    "from stockfish import Stockfish\n"
   ]
  },
  {
   "cell_type": "code",
   "execution_count": 14,
   "metadata": {
    "editable": true,
    "id": "zLLf0Jh3h-jR",
    "slideshow": {
     "slide_type": "skip"
    },
    "tags": []
   },
   "outputs": [],
   "source": [
    "df = pd.read_csv(\"../data/rapid_games(LAN).csv\")\n",
    "df[\"LAN\"] = df[\"LAN\"].str.split()"
   ]
  },
  {
   "cell_type": "markdown",
   "metadata": {
    "editable": true,
    "slideshow": {
     "slide_type": "slide"
    },
    "tags": []
   },
   "source": [
    "### Setting up Stockfish\n",
    "Setting parameters can be found here: https://github.com/official-stockfish/Stockfish/wiki/UCI-&-Commands"
   ]
  },
  {
   "cell_type": "code",
   "execution_count": 9,
   "metadata": {
    "editable": true,
    "slideshow": {
     "slide_type": "fragment"
    },
    "tags": []
   },
   "outputs": [],
   "source": [
    "stockfish = Stockfish(\"C:/Users/phili/stockfish-windows-x86-64-avx2/stockfish/stockfish-windows-x86-64-avx2.exe\")\n",
    "stockfish.get_parameters()\n",
    "stockfish.update_engine_parameters({\"Hash\": 2048,\"Threads\": 8})"
   ]
  },
  {
   "cell_type": "markdown",
   "metadata": {
    "editable": true,
    "slideshow": {
     "slide_type": "slide"
    },
    "tags": []
   },
   "source": [
    "## Move evaluation"
   ]
  },
  {
   "cell_type": "code",
   "execution_count": 17,
   "metadata": {
    "editable": true,
    "slideshow": {
     "slide_type": "fragment"
    },
    "tags": []
   },
   "outputs": [],
   "source": [
    "def evaluate_move():\n",
    "    \"\"\"\n",
    "    return: return a move's evaluation compared to the previous position (in centipawns).\n",
    "    \"\"\"\n",
    "    mate_eval = 1400\n",
    "    eval = stockfish.get_evaluation()\n",
    "\n",
    "    if eval[\"type\"] == \"cp\":\n",
    "        return eval['value']\n",
    "    else:\n",
    "        if eval[\"value\"] > 0:\n",
    "            return mate_eval\n",
    "        elif eval[\"value\"] < 0:\n",
    "            return mate_eval * -1\n",
    "        else:\n",
    "            return \"checkmate\""
   ]
  },
  {
   "cell_type": "code",
   "execution_count": 20,
   "metadata": {},
   "outputs": [],
   "source": [
    "move_list = df.loc[0,\"LAN\"][:-1]\n",
    "evals = []\n",
    "stockfish.set_depth(16)\n",
    "stockfish.set_position()\n",
    "for move in move_list:\n",
    "    stockfish.make_moves_from_current_position([move])\n",
    "    evals.append(evaluate_move())"
   ]
  },
  {
   "cell_type": "code",
   "execution_count": 21,
   "metadata": {},
   "outputs": [
    {
     "data": {
      "text/plain": [
       "<matplotlib.lines.Line2D at 0x277f51fc110>"
      ]
     },
     "execution_count": 21,
     "metadata": {},
     "output_type": "execute_result"
    },
    {
     "data": {
      "image/png": "[encoded data removed]",
      "text/plain": [
       "<Figure size 2000x600 with 1 Axes>"
      ]
     },
     "metadata": {},
     "output_type": "display_data"
    }
   ],
   "source": [
    "plt.figure(figsize=(20,6))\n",
    "plt.plot(evals)\n",
    "plt.ylim(-1500,1500)\n",
    "plt.axhline(0, color=\"black\", linestyle=\"dotted\")"
   ]
  },
  {
   "cell_type": "code",
   "execution_count": 22,
   "metadata": {},
   "outputs": [
    {
     "data": {
      "text/plain": [
       "'https://lichess.org/gEV7P53H'"
      ]
     },
     "execution_count": 22,
     "metadata": {},
     "output_type": "execute_result"
    }
   ],
   "source": [
    "# Link to sample game:\n",
    "df.loc[0,\"id\"]"
   ]
  },
  {
   "cell_type": "markdown",
   "metadata": {
    "editable": true,
    "slideshow": {
     "slide_type": "slide"
    },
    "tags": []
   },
   "source": [
    "### Depth of Search: Speed-Accuracy Tradeoff\n",
    "- generally it is desirable to have a deeper stockfish evaluation, however, the time cost increases exponentially."
   ]
  },
  {
   "cell_type": "code",
   "execution_count": 96,
   "metadata": {
    "editable": true,
    "slideshow": {
     "slide_type": "fragment"
    },
    "tags": []
   },
   "outputs": [],
   "source": [
    "depths = [16, 18, 20, 22, 24, 26, 28]\n",
    "times = []\n",
    "evals_per_depth = []\n",
    "import time\n",
    "\n",
    "for depth in depths:\n",
    "    stockfish.set_depth(depth)\n",
    "\n",
    "    start = time.time()\n",
    "    stockfish.set_position()\n",
    "    evals = [stockfish.get_evaluation()[\"value\"]]\n",
    "    for move in move_list:\n",
    "        stockfish.make_moves_from_current_position([move])\n",
    "        evals.append(evaluate_move(move))\n",
    "    evals_per_depth.append(evals)\n",
    "    times.append(time.time() - start)\n"
   ]
  },
  {
   "cell_type": "code",
   "execution_count": 104,
   "metadata": {
    "editable": true,
    "slideshow": {
     "slide_type": "slide"
    },
    "tags": []
   },
   "outputs": [
    {
     "data": {
      "text/plain": [
       "Text(0.5, 1.0, 'Evaluation Time Cost by Depth (56-move game)')"
      ]
     },
     "execution_count": 104,
     "metadata": {},
     "output_type": "execute_result"
    },
    {
     "data": {
      "image/png": "[encoded data removed]",
      "text/plain": [
       "<Figure size 640x480 with 1 Axes>"
      ]
     },
     "metadata": {},
     "output_type": "display_data"
    }
   ],
   "source": [
    "plt.scatter(depths, times)\n",
    "plt.ylabel(\"Time in seconds\")\n",
    "plt.xlabel(\"Search Depth\")\n",
    "plt.title(f\"Evaluation Time Cost by Depth ({len(move_list)}-move game)\")"
   ]
  },
  {
   "cell_type": "code",
   "execution_count": 116,
   "metadata": {
    "editable": true,
    "slideshow": {
     "slide_type": "skip"
    },
    "tags": []
   },
   "outputs": [
    {
     "name": "stdout",
     "output_type": "stream",
     "text": [
      "For 15 users:\n",
      "username\n",
      "elgalgo72          902\n",
      "Thinkersaurish     797\n",
      "ChessCheens        523\n",
      "AnishPanda2016     486\n",
      "JeanEric           381\n",
      "dyllos             381\n",
      "Adrian_Glez        345\n",
      "te989              326\n",
      "JeremyMNunez       322\n",
      "edahhani           239\n",
      "Sarmiflex          208\n",
      "Elcachoras12       202\n",
      "SamuelTorrres      155\n",
      "Melag              147\n",
      "thenextbesthang    125\n",
      "Name: count, dtype: int64\n",
      "Total of 5539 games\n"
     ]
    }
   ],
   "source": [
    "print(f\"For {len(df.username.unique())} users:\")\n",
    "print(df.username.value_counts())\n",
    "print(f\"Total of {df.shape[0]} games\")"
   ]
  },
  {
   "cell_type": "markdown",
   "metadata": {},
   "source": [
    "- I read online that a depth of 20+ is recommended for reliable evaluations\n",
    "- For this small sample of 5539 games the time cost would be approximately:"
   ]
  },
  {
   "cell_type": "code",
   "execution_count": 139,
   "metadata": {
    "editable": true,
    "slideshow": {
     "slide_type": "slide"
    },
    "tags": []
   },
   "outputs": [
    {
     "data": {
      "text/html": [
       "<div>\n",
       "<style scoped>\n",
       "    .dataframe tbody tr th:only-of-type {\n",
       "        vertical-align: middle;\n",
       "    }\n",
       "\n",
       "    .dataframe tbody tr th {\n",
       "        vertical-align: top;\n",
       "    }\n",
       "\n",
       "    .dataframe thead th {\n",
       "        text-align: right;\n",
       "    }\n",
       "</style>\n",
       "<table border=\"1\" class=\"dataframe\">\n",
       "  <thead>\n",
       "    <tr style=\"text-align: right;\">\n",
       "      <th></th>\n",
       "      <th>depth</th>\n",
       "      <th>computational cost in hours</th>\n",
       "    </tr>\n",
       "  </thead>\n",
       "  <tbody>\n",
       "    <tr>\n",
       "      <th>0</th>\n",
       "      <td>16</td>\n",
       "      <td>8</td>\n",
       "    </tr>\n",
       "    <tr>\n",
       "      <th>1</th>\n",
       "      <td>18</td>\n",
       "      <td>24</td>\n",
       "    </tr>\n",
       "    <tr>\n",
       "      <th>2</th>\n",
       "      <td>20</td>\n",
       "      <td>54</td>\n",
       "    </tr>\n",
       "    <tr>\n",
       "      <th>3</th>\n",
       "      <td>22</td>\n",
       "      <td>149</td>\n",
       "    </tr>\n",
       "    <tr>\n",
       "      <th>4</th>\n",
       "      <td>24</td>\n",
       "      <td>296</td>\n",
       "    </tr>\n",
       "    <tr>\n",
       "      <th>5</th>\n",
       "      <td>26</td>\n",
       "      <td>588</td>\n",
       "    </tr>\n",
       "    <tr>\n",
       "      <th>6</th>\n",
       "      <td>28</td>\n",
       "      <td>1229</td>\n",
       "    </tr>\n",
       "  </tbody>\n",
       "</table>\n",
       "</div>"
      ],
      "text/plain": [
       "   depth  computational cost in hours\n",
       "0     16                            8\n",
       "1     18                           24\n",
       "2     20                           54\n",
       "3     22                          149\n",
       "4     24                          296\n",
       "5     26                          588\n",
       "6     28                         1229"
      ]
     },
     "execution_count": 139,
     "metadata": {},
     "output_type": "execute_result"
    }
   ],
   "source": [
    "time_cost = pd.DataFrame(depths, columns=[\"depth\"])\n",
    "time_cost[\"computational cost in hours\"] = list(map(lambda x: x* 5539/3600, times))\n",
    "time_cost[\"computational cost in hours\"] = time_cost[\"computational cost in hours\"].astype(int)\n",
    "time_cost"
   ]
  },
  {
   "cell_type": "markdown",
   "metadata": {
    "editable": true,
    "slideshow": {
     "slide_type": "slide"
    },
    "tags": []
   },
   "source": [
    "## Ideas to deal with this problem:\n",
    "- exclude users who have many games\n",
    "- randomly sample a portion of the total games for each user\n",
    "- restrict time range\n",
    "- create a look-up table for move sequences that were already computed to avoid recomputations\n",
    "- compute multiple games in parallel"
   ]
  },
  {
   "cell_type": "markdown",
   "metadata": {
    "editable": true,
    "slideshow": {
     "slide_type": "slide"
    },
    "tags": []
   },
   "source": [
    "## Material\n",
    "  Pieces are valued with the following points:\n",
    "  - queen: 9 points.\n",
    "  - rook: 5 points.\n",
    "  - bishop/Knight: 3 points.\n",
    "  - pawn: 1 point."
   ]
  },
  {
   "cell_type": "code",
   "execution_count": 13,
   "metadata": {
    "editable": true,
    "slideshow": {
     "slide_type": "fragment"
    },
    "tags": []
   },
   "outputs": [],
   "source": [
    "def get_piece_value(piece):\n",
    "    piece_values = {\n",
    "        # White:\n",
    "        \"K\": 0,\n",
    "        \"Q\": 9,\n",
    "        \"R\": 5,\n",
    "        \"B\": 3,\n",
    "        \"N\": 3,\n",
    "        \"P\": 1,\n",
    "        # Black:\n",
    "        \"k\": 0,\n",
    "        \"q\": -9,\n",
    "        \"r\": -5,\n",
    "        \"b\": -3,\n",
    "        \"n\": -3,\n",
    "        \"p\": -1,\n",
    "    }\n",
    "    try: \n",
    "        return piece_values[piece.value]\n",
    "    except AttributeError:  # case when no piece is on a given square\n",
    "        return 0"
   ]
  },
  {
   "cell_type": "markdown",
   "metadata": {
    "editable": true,
    "slideshow": {
     "slide_type": "slide"
    },
    "tags": []
   },
   "source": [
    "## Game stage\n",
    "- Opening is defined as: Moves 1-10\n",
    "- Middlegame is defined as: Moves after middle game and before endgame\n",
    "- Endgame is defined as: from the move at which both sides have less than *13 points* in material. This definition is adopted from Speelman (Speelman, Jonathan (1981), Endgame Preparation, Batsford, ISBN 0-7134-4000-7 - https://en.wikipedia.org/wiki/Chess_endgame#The_start_of_the_endgame)"
   ]
  },
  {
   "cell_type": "code",
   "execution_count": 14,
   "metadata": {
    "editable": true,
    "slideshow": {
     "slide_type": "fragment"
    },
    "tags": []
   },
   "outputs": [],
   "source": [
    "def get_material_counts():\n",
    "    files = string.ascii_lowercase[0:8] # get a-h\n",
    "    white, black = 0, 0\n",
    "    \n",
    "    for file in files:\n",
    "        for rank in range(1,9):\n",
    "            piece = stockfish.get_what_is_on_square(file+str(rank)) # returns None if there is no piece\n",
    "            if not piece:\n",
    "                pass\n",
    "            piece_value = get_piece_value(piece)\n",
    "            if piece_value > 0:\n",
    "                white += piece_value\n",
    "            else:\n",
    "                black += abs(piece_value)\n",
    "    return (white, black)\n"
   ]
  },
  {
   "cell_type": "markdown",
   "metadata": {
    "editable": true,
    "slideshow": {
     "slide_type": "slide"
    },
    "tags": []
   },
   "source": [
    "## Putting it all together\n",
    "\n",
    "Now that we have all the elements needed to analyze an entire game and defined how to evaluate the game stage, we can write a function to analyze an entire game given the move-sequence in LAN notation."
   ]
  },
  {
   "cell_type": "code",
   "execution_count": 15,
   "metadata": {
    "editable": true,
    "slideshow": {
     "slide_type": "fragment"
    },
    "tags": []
   },
   "outputs": [],
   "source": [
    "def get_evaluations(moves: list): #, white: bool):\n",
    "    stage, evals = [],[]\n",
    "    # set up board position:\n",
    "    stockfish.set_position()\n",
    "    # loop through the game\n",
    "    reached_endgame = False # once you enter the endgame, you can never go back\n",
    "    for i, move in enumerate(moves):\n",
    "        stockfish.make_moves_from_current_position([move])\n",
    "        evals.append(evaluate_move(move))\n",
    "        if i < 20:\n",
    "            stage.append(\"opening\")\n",
    "        elif not reached_endgame and max(get_material_counts())>13:\n",
    "            stage.append(\"middle\")\n",
    "        else:\n",
    "            stage.append(\"ending\")\n",
    "\n",
    "    return (evals, stage)"
   ]
  },
  {
   "cell_type": "markdown",
   "metadata": {
    "editable": true,
    "slideshow": {
     "slide_type": "skip"
    },
    "tags": []
   },
   "source": [
    "Example of a small sample:"
   ]
  },
  {
   "cell_type": "code",
   "execution_count": 21,
   "metadata": {
    "editable": true,
    "slideshow": {
     "slide_type": "skip"
    },
    "tags": []
   },
   "outputs": [],
   "source": [
    "df[\"LAN\"] = df[\"LAN\"].str.split()\n",
    "df[\"evaluation\"] = df.apply(lambda x: get_evaluations(x[\"LAN\"]), axis=1)"
   ]
  },
  {
   "cell_type": "code",
   "execution_count": 29,
   "metadata": {
    "editable": true,
    "slideshow": {
     "slide_type": "skip"
    },
    "tags": []
   },
   "outputs": [],
   "source": [
    "df = df.reset_index(drop=True)"
   ]
  },
  {
   "cell_type": "code",
   "execution_count": null,
   "metadata": {
    "editable": true,
    "slideshow": {
     "slide_type": "skip"
    },
    "tags": []
   },
   "outputs": [],
   "source": [
    "evals = pd.DataFrame(df[\"evaluation\"].to_list(), columns=[\"evaluation\", \"stage\"])\n",
    "rapid_games = df.drop(labels=\"evaluation\", axis=1)\n",
    "rapid_games = pd.concat([rapid_games, evals], axis=1)\n",
    "rapid_games"
   ]
  },
  {
   "cell_type": "markdown",
   "metadata": {
    "editable": true,
    "slideshow": {
     "slide_type": "slide"
    },
    "tags": []
   },
   "source": [
    "### From Centipawns to Accuracies\n",
    "\n",
    "The formulas provided by lichess (https://lichess.org/page/accuracy) are:\n",
    "\n",
    "For the win percentage $w_t$ given the position evaluation in centipawns:\n",
    "$$\n",
    "w_t(centipawns) = 50 + 50 *(\\frac{2}{1 + e^{-0.00368208 * centipawns}} - 1)\n",
    "$$\n",
    "\n",
    "and for the accuracy percentage given the win percentage before a move $w_{t-1}$ and the win percentage after a move $w_{t}$:\n",
    "$$\n",
    "Accuracy(w_{t-1}, w_{t}) = 103.1668 * e^{-0.04354 * (w_{t-1} - w_{t})} - 3.1669\n",
    "$$"
   ]
  },
  {
   "cell_type": "code",
   "execution_count": 62,
   "metadata": {
    "editable": true,
    "slideshow": {
     "slide_type": "fragment"
    },
    "tags": []
   },
   "outputs": [],
   "source": [
    "def get_win_percent(evaluations):\n",
    "    return [50 + 50 * (2 / (1 + np.e**(-0.00368208 * cp)) - 1) for cp in evaluations]"
   ]
  },
  {
   "cell_type": "code",
   "execution_count": 66,
   "metadata": {
    "editable": true,
    "slideshow": {
     "slide_type": "fragment"
    },
    "tags": []
   },
   "outputs": [],
   "source": [
    "def get_accuracies(win_percentages):\n",
    "    return [103.1668 * np.e**(-0.04354 * (win_percentages[i-1] - win_percentages[i])) - 3.1669 for i in range(1, len(win_percentages))]"
   ]
  },
  {
   "cell_type": "code",
   "execution_count": 63,
   "metadata": {
    "editable": true,
    "slideshow": {
     "slide_type": "skip"
    },
    "tags": []
   },
   "outputs": [
    {
     "data": {
      "text/plain": [
       "[52.66697440308632,\n",
       " 56.950652664707015,\n",
       " 53.76698043044984,\n",
       " 53.58387144707508,\n",
       " 53.85849714102531,\n",
       " 59.10258971916128,\n",
       " 59.812643568627436,\n",
       " 66.40030811678618,\n",
       " 66.64630487993782,\n",
       " 65.90564612649169,\n",
       " 67.05428791057813,\n",
       " 67.86254827184692,\n",
       " 66.31811026712697,\n",
       " 67.13557948833915,\n",
       " 64.23206501894636,\n",
       " 74.13649232497093,\n",
       " 73.92412438359773,\n",
       " 83.58240437072985,\n",
       " 76.2642034262642,\n",
       " 84.42339860303731,\n",
       " 72.40628269004114,\n",
       " 85.6864845578129,\n",
       " 78.14266583095537,\n",
       " 78.57969855524269,\n",
       " 78.82656217191823,\n",
       " 79.01034009176922,\n",
       " 76.66179647685237,\n",
       " 77.24945149239734,\n",
       " 76.66179647685237,\n",
       " 81.79155706687055,\n",
       " 81.34874545019301,\n",
       " 81.06779899506586,\n",
       " 76.66179647685237,\n",
       " 87.60108570678773,\n",
       " 87.03024236418142,\n",
       " 87.64102358709695,\n",
       " 77.76298320139679,\n",
       " 88.34118629871755,\n",
       " 84.80684627039938,\n",
       " 91.07959528114046,\n",
       " 91.13924591731603,\n",
       " 91.31604245116785,\n",
       " 91.31604245116785,\n",
       " 91.2867996687703,\n",
       " 90.71403124659402,\n",
       " 91.16893600511021,\n",
       " 90.95920634631364,\n",
       " 90.89846472089855,\n",
       " 90.68296806302777,\n",
       " 90.71403124659402,\n",
       " 89.63860196951276,\n",
       " 89.32674786582157,\n",
       " 87.23663888643881,\n",
       " 88.15022519586654,\n",
       " 86.17609834642812,\n",
       " 85.91080336210311,\n",
       " 86.30716599681827,\n",
       " 86.35062229486782,\n",
       " 84.94862867151542,\n",
       " 85.86617598408057,\n",
       " 86.65157323943802,\n",
       " 86.73652202544964,\n",
       " 85.4133838270865,\n",
       " 86.30716599681827,\n",
       " 85.50489426204342,\n",
       " 88.15022519586654,\n",
       " 87.9175039302338,\n",
       " 91.43212727289114,\n",
       " 87.56103708512714,\n",
       " 94.19875579104375,\n",
       " 91.57525465633049,\n",
       " 99.4262125305743,\n",
       " 99.4262125305743,\n",
       " 99.4262125305743]"
      ]
     },
     "execution_count": 63,
     "metadata": {},
     "output_type": "execute_result"
    }
   ],
   "source": [
    "sample_game = rapid_games.loc[0,\"evaluation\"][:-1]\n",
    "get_win_percent(sample_game)"
   ]
  },
  {
   "cell_type": "code",
   "execution_count": 46,
   "metadata": {
    "editable": true,
    "slideshow": {
     "slide_type": "skip"
    },
    "tags": []
   },
   "outputs": [],
   "source": [
    "rapid_games.to_csv(\"../data/rapid_games_evals.csv\")"
   ]
  },
  {
   "cell_type": "markdown",
   "metadata": {
    "editable": true,
    "slideshow": {
     "slide_type": "skip"
    },
    "tags": []
   },
   "source": [
    "### To Do\n",
    "- change the metric:\n",
    "    \n",
    "    measure *accuracy* instead of the *mean centipawn loss* because losing centipawns is much more impactful if the position is in equillibrium than if one side has a winning position which is not taken into account by *mean centipawn loss*. https://lichess.org/page/accuracy , https://zwischenzug.substack.com/p/centipawns-suck\n",
    "- decide on evaluation behaviour if the evaluation is given in checkmate instead of centipawns\n",
    "    -> went for +/- 1400 centipawns\n",
    "- measure number of blunders in a game - find a metric to decide on which moves qualify as a blunder\n",
    "- ~~rewrite function from evaluate game() to evaluate move()~~\n",
    "- ~~let get_average_centipawn_loss() loop through a game once instead of twice (stockfish.set_position and stockfish.make_move_from_position(move))~~"
   ]
  }
 ],
 "metadata": {
  "colab": {
   "provenance": []
  },
  "kernelspec": {
   "display_name": "Python 3 (ipykernel)",
   "language": "python",
   "name": "python3"
  },
  "language_info": {
   "codemirror_mode": {
    "name": "ipython",
    "version": 3
   },
   "file_extension": ".py",
   "mimetype": "text/x-python",
   "name": "python",
   "nbconvert_exporter": "python",
   "pygments_lexer": "ipython3",
   "version": "3.12.0"
  }
 },
 "nbformat": 4,
 "nbformat_minor": 4
}
